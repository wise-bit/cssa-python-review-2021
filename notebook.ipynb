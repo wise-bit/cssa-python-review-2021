{
 "cells": [
  {
   "cell_type": "code",
   "execution_count": null,
   "id": "bd8d3a90",
   "metadata": {},
   "outputs": [],
   "source": [
    "'''\n",
    "CSSA Python Review Session\n",
    "Fall 2021\n",
    "'''"
   ]
  },
  {
   "cell_type": "code",
   "execution_count": null,
   "id": "d81a6526",
   "metadata": {},
   "outputs": [],
   "source": [
    "# Let's start with some refreshers"
   ]
  },
  {
   "cell_type": "code",
   "execution_count": null,
   "id": "593f1240",
   "metadata": {},
   "outputs": [],
   "source": [
    "# Sum of diagonals of a 2D lists"
   ]
  },
  {
   "cell_type": "code",
   "execution_count": null,
   "id": "c08dc479",
   "metadata": {},
   "outputs": [],
   "source": [
    "list_1d = [1, 3, 4, 5]\n",
    "list_1d.append(44)"
   ]
  },
  {
   "cell_type": "code",
   "execution_count": null,
   "id": "1bd0dbe4",
   "metadata": {},
   "outputs": [],
   "source": [
    "list_2d = [[3, 4, 5]]\n",
    "list_2d.append(list_1d)\n",
    "list_2d"
   ]
  },
  {
   "cell_type": "code",
   "execution_count": null,
   "id": "5b2470c3",
   "metadata": {},
   "outputs": [],
   "source": [
    "l = [(1, 2, 3),\n",
    "     (4, 5, 6),\n",
    "(7, 8, 9)]"
   ]
  },
  {
   "cell_type": "code",
   "execution_count": null,
   "id": "db05cb70",
   "metadata": {},
   "outputs": [],
   "source": [
    "s = 0\n",
    "length = len(l)\n",
    "for i in range(length):\n",
    "    s += l[i][i]\n",
    "    s += l[length-1-i][i]\n",
    "    \n",
    "print(l)\n",
    "print(s)"
   ]
  },
  {
   "cell_type": "code",
   "execution_count": null,
   "id": "8cf2620a",
   "metadata": {},
   "outputs": [],
   "source": [
    "# Merging two sorted lists\n",
    "\n",
    "l1 = [3, 5, 7, 9, 12]\n",
    "l2 = [1, 6, 8, 11]"
   ]
  },
  {
   "cell_type": "code",
   "execution_count": null,
   "id": "51f2412a",
   "metadata": {},
   "outputs": [],
   "source": []
  },
  {
   "cell_type": "code",
   "execution_count": null,
   "id": "860f28e0",
   "metadata": {},
   "outputs": [],
   "source": [
    "t = (1, 2, 3)\n",
    "lt = [1, 2, 3]"
   ]
  },
  {
   "cell_type": "code",
   "execution_count": null,
   "id": "ca3e4e90",
   "metadata": {},
   "outputs": [],
   "source": [
    "lt[0] = 7\n",
    "lt"
   ]
  },
  {
   "cell_type": "code",
   "execution_count": null,
   "id": "5256d8ca",
   "metadata": {},
   "outputs": [],
   "source": [
    "t[0]"
   ]
  },
  {
   "cell_type": "code",
   "execution_count": null,
   "id": "eec84808",
   "metadata": {},
   "outputs": [],
   "source": [
    "l_coords = [(3, 4), (1, 2)]"
   ]
  },
  {
   "cell_type": "code",
   "execution_count": null,
   "id": "5949c99a",
   "metadata": {},
   "outputs": [],
   "source": [
    "# Recursion\n",
    "\n",
    "# Calling the same function from within itself "
   ]
  },
  {
   "cell_type": "code",
   "execution_count": null,
   "id": "e6448934",
   "metadata": {},
   "outputs": [],
   "source": [
    "# fib -> 0, 1, 1, 2, 3, 5, 8, 13, ..."
   ]
  },
  {
   "cell_type": "code",
   "execution_count": null,
   "id": "6fc13671",
   "metadata": {},
   "outputs": [],
   "source": [
    "def fib(n):\n",
    "    if n == 1:\n",
    "        return 0\n",
    "    if n == 2:\n",
    "        return 1\n",
    "    return fib(n-1) + fib(n-2)"
   ]
  },
  {
   "cell_type": "code",
   "execution_count": null,
   "id": "7af0ed78",
   "metadata": {},
   "outputs": [],
   "source": [
    "fib(5)"
   ]
  },
  {
   "cell_type": "code",
   "execution_count": null,
   "id": "3836971c",
   "metadata": {},
   "outputs": [],
   "source": [
    "# 5! = 5 * 4 * 3 * 2 * 1"
   ]
  },
  {
   "cell_type": "code",
   "execution_count": null,
   "id": "bdd82802",
   "metadata": {},
   "outputs": [],
   "source": [
    "def fact(n):\n",
    "    if n == 1:\n",
    "        return 1\n",
    "    else:\n",
    "        return n * fact(n-1)"
   ]
  },
  {
   "cell_type": "code",
   "execution_count": null,
   "id": "c28fc1f5",
   "metadata": {},
   "outputs": [],
   "source": [
    "fact(4)"
   ]
  },
  {
   "cell_type": "code",
   "execution_count": null,
   "id": "27cffa7d",
   "metadata": {},
   "outputs": [],
   "source": [
    "def multiply(x, y):\n",
    "    return x * y"
   ]
  },
  {
   "cell_type": "code",
   "execution_count": null,
   "id": "178fd140",
   "metadata": {},
   "outputs": [],
   "source": [
    "multiply(4, 5)"
   ]
  },
  {
   "cell_type": "code",
   "execution_count": null,
   "id": "312bf98f",
   "metadata": {},
   "outputs": [],
   "source": [
    "def cool_multiply(x, y):\n",
    "    if y == 1:\n",
    "        return x\n",
    "    else:\n",
    "        return x + cool_multiply(x, y-1)"
   ]
  },
  {
   "cell_type": "code",
   "execution_count": null,
   "id": "ae70e09a",
   "metadata": {},
   "outputs": [],
   "source": [
    "cool_multiply(4, 5)"
   ]
  },
  {
   "cell_type": "code",
   "execution_count": null,
   "id": "11a0c757",
   "metadata": {},
   "outputs": [],
   "source": [
    "# More useful examples"
   ]
  },
  {
   "cell_type": "code",
   "execution_count": null,
   "id": "d16cdaf8",
   "metadata": {},
   "outputs": [],
   "source": []
  },
  {
   "cell_type": "code",
   "execution_count": null,
   "id": "da293608",
   "metadata": {},
   "outputs": [],
   "source": [
    "# Binary Search\n",
    "\n",
    "def search(arr, min, max, n):\n",
    "    if (max < min):\n",
    "        return -1 # indicating n not found in list\n",
    "    else:\n",
    "        p = int((max + min) / 2)\n",
    "        \n",
    "        if arr[p] == n:\n",
    "            return p\n",
    "        \n",
    "        elif arr[p] > n:\n",
    "            return search(arr, min, p - 1, n)\n",
    "        \n",
    "        else:\n",
    "            return search(arr, p + 1, max, n)"
   ]
  },
  {
   "cell_type": "code",
   "execution_count": null,
   "id": "d157c809",
   "metadata": {},
   "outputs": [],
   "source": [
    "array = [1, 4, 5, 7, 8, 10]\n",
    "length = len(array)\n",
    "search(array, 0, length - 1, 5)"
   ]
  },
  {
   "cell_type": "code",
   "execution_count": null,
   "id": "f9e3117f",
   "metadata": {},
   "outputs": [],
   "source": [
    "# Recursion time complexity "
   ]
  },
  {
   "cell_type": "code",
   "execution_count": null,
   "id": "a24981bb",
   "metadata": {},
   "outputs": [],
   "source": [
    "# Reference image on the repo!"
   ]
  },
  {
   "cell_type": "code",
   "execution_count": null,
   "id": "cdad7788",
   "metadata": {},
   "outputs": [],
   "source": [
    "flavor = \"vanilla\"\n",
    "price = 5\n",
    "sold_from = \"Store A\""
   ]
  },
  {
   "cell_type": "code",
   "execution_count": null,
   "id": "1bb9b9a9",
   "metadata": {},
   "outputs": [],
   "source": [
    "class Food:\n",
    "    def __init__(self, flavor, price):\n",
    "        self.flavor = flavor\n",
    "        self.price = price\n",
    "        \n",
    "    def description(self):\n",
    "        return \"The {} flavor costs only ${}!!\".format(self.flavor, self.price)"
   ]
  },
  {
   "cell_type": "code",
   "execution_count": null,
   "id": "5e52ef15",
   "metadata": {},
   "outputs": [],
   "source": [
    "class IceCream(Food):\n",
    "#     def description(self):\n",
    "#         return \"No info\"\n",
    "\n",
    "    def __init__(self, flavor, price, availability):\n",
    "        super().__init__(flavor, price)\n",
    "        self.availability = availability\n",
    "    \n",
    "    def combine_flavors(self, ice_cream2):\n",
    "        new_ice_cream = IceCream(self.flavor + \"-\" + ice_cream2.flavor, self.price + ice_cream2.price)\n",
    "        return new_ice_cream"
   ]
  },
  {
   "cell_type": "code",
   "execution_count": null,
   "id": "3bf86263",
   "metadata": {},
   "outputs": [],
   "source": [
    "# instance = ClassName(arg1, arg2, ...)"
   ]
  },
  {
   "cell_type": "code",
   "execution_count": null,
   "id": "497ec2fd",
   "metadata": {},
   "outputs": [],
   "source": [
    "i = IceCream(\"mango\", 4.3, \"fall\")"
   ]
  },
  {
   "cell_type": "code",
   "execution_count": null,
   "id": "821caafe",
   "metadata": {},
   "outputs": [],
   "source": [
    "i2 = IceCream(\"vanilla\", 3.0, \"summer\")"
   ]
  },
  {
   "cell_type": "code",
   "execution_count": null,
   "id": "3acb3eeb",
   "metadata": {},
   "outputs": [],
   "source": [
    "i.description()"
   ]
  },
  {
   "cell_type": "code",
   "execution_count": null,
   "id": "b38f4e5b",
   "metadata": {},
   "outputs": [],
   "source": [
    "new_i = i.combine_flavors(i2)"
   ]
  },
  {
   "cell_type": "code",
   "execution_count": null,
   "id": "88c70c21",
   "metadata": {},
   "outputs": [],
   "source": [
    "new_i.description()"
   ]
  },
  {
   "cell_type": "code",
   "execution_count": null,
   "id": "d2b0b250",
   "metadata": {},
   "outputs": [],
   "source": [
    "i.status"
   ]
  },
  {
   "cell_type": "code",
   "execution_count": null,
   "id": "55092751",
   "metadata": {},
   "outputs": [],
   "source": [
    "i.availability"
   ]
  },
  {
   "cell_type": "code",
   "execution_count": null,
   "id": "4bbcde3a",
   "metadata": {},
   "outputs": [],
   "source": [
    "f = Food(\"rice\", 10)"
   ]
  },
  {
   "cell_type": "code",
   "execution_count": null,
   "id": "edb03972",
   "metadata": {},
   "outputs": [],
   "source": [
    "# f.availability # this will throw error"
   ]
  },
  {
   "cell_type": "code",
   "execution_count": null,
   "id": "56392581",
   "metadata": {},
   "outputs": [],
   "source": [
    "# Dictionaries"
   ]
  },
  {
   "cell_type": "code",
   "execution_count": null,
   "id": "7e5d5901",
   "metadata": {},
   "outputs": [],
   "source": [
    "d = {1: 2, 2: 3}\n",
    "type(d)"
   ]
  },
  {
   "cell_type": "code",
   "execution_count": null,
   "id": "c5011435",
   "metadata": {},
   "outputs": [],
   "source": [
    "d[1]"
   ]
  },
  {
   "cell_type": "code",
   "execution_count": null,
   "id": "6c753a5a",
   "metadata": {},
   "outputs": [],
   "source": [
    "phone_number = \"6471234567\"\n",
    "d = {}\n",
    "for i in range(len(phone_number)):\n",
    "    digit = phone_number[i]\n",
    "    if d.get(digit) == None:\n",
    "        d[digit] = 1\n",
    "    else:\n",
    "        d[digit] += 1\n",
    "print(d)"
   ]
  },
  {
   "cell_type": "code",
   "execution_count": null,
   "id": "7555c5c4",
   "metadata": {},
   "outputs": [],
   "source": [
    "# d[n] --> KeyError\n",
    "# d.get(n) --> None"
   ]
  },
  {
   "cell_type": "code",
   "execution_count": null,
   "id": "9105429d",
   "metadata": {},
   "outputs": [],
   "source": [
    "# At one point can we go over how to reverse elements and keys in a dictionary"
   ]
  },
  {
   "cell_type": "code",
   "execution_count": null,
   "id": "8f4a6b0e",
   "metadata": {},
   "outputs": [],
   "source": [
    "# Sets"
   ]
  },
  {
   "cell_type": "code",
   "execution_count": null,
   "id": "9ff8745a",
   "metadata": {},
   "outputs": [],
   "source": [
    "# Sets do not have ordering\n",
    "bigSet = {45, 63, 23, 60, 70, 82, 80, 98, 100, 1120, 25}"
   ]
  },
  {
   "cell_type": "code",
   "execution_count": null,
   "id": "8957a4e7",
   "metadata": {},
   "outputs": [],
   "source": [
    "l = [1, 4, 5, 6, 1, 5, 8]\n",
    "print(l)"
   ]
  },
  {
   "cell_type": "code",
   "execution_count": null,
   "id": "87a7d829",
   "metadata": {},
   "outputs": [],
   "source": [
    "l_set = set(l)\n",
    "print(l_set)"
   ]
  },
  {
   "cell_type": "code",
   "execution_count": null,
   "id": "e60a6cd5",
   "metadata": {},
   "outputs": [],
   "source": [
    "temp_set = set()\n",
    "type(temp_set)"
   ]
  },
  {
   "cell_type": "code",
   "execution_count": null,
   "id": "ef8cbfd3",
   "metadata": {},
   "outputs": [],
   "source": [
    "s = set()\n",
    "for i in range(10, 100+1, 10):\n",
    "    s.add(i)"
   ]
  },
  {
   "cell_type": "code",
   "execution_count": null,
   "id": "66f1adba",
   "metadata": {},
   "outputs": [],
   "source": [
    "s"
   ]
  },
  {
   "cell_type": "code",
   "execution_count": null,
   "id": "f462c7da",
   "metadata": {},
   "outputs": [],
   "source": [
    "bigSet.union(s)"
   ]
  },
  {
   "cell_type": "code",
   "execution_count": null,
   "id": "7dbcfdf2",
   "metadata": {},
   "outputs": [],
   "source": [
    "bigSet.intersection(s)"
   ]
  },
  {
   "cell_type": "code",
   "execution_count": null,
   "id": "3f3f2d1f",
   "metadata": {},
   "outputs": [],
   "source": [
    "bigSet.difference_update(s)\n",
    "bigSet"
   ]
  },
  {
   "cell_type": "code",
   "execution_count": null,
   "id": "86f48921",
   "metadata": {},
   "outputs": [],
   "source": [
    "# Sorting algorithms\n",
    "\n",
    "# Bubble Sort\n",
    "# Insertion Sort\n",
    "# Selection Sort\n",
    "\n",
    "# (Not covered for this review, Merge Sort)"
   ]
  },
  {
   "cell_type": "code",
   "execution_count": null,
   "id": "25359f50",
   "metadata": {},
   "outputs": [],
   "source": [
    "# Images are added as separate files on the repo!"
   ]
  },
  {
   "cell_type": "code",
   "execution_count": null,
   "id": "0412fd45",
   "metadata": {},
   "outputs": [],
   "source": [
    "# Overloading operators \n",
    "\n",
    "class Point:\n",
    "    def __init__(self, x, y):\n",
    "        self.x = x\n",
    "        self.y = y\n",
    "        \n",
    "    def __add__(self, p2):\n",
    "        return Point(self.x + p2.x, self.y + p2.y)\n",
    "    \n",
    "    def __mul__(self, p2):\n",
    "        return self.x * p2.x + self.y * p2.y\n",
    "    \n",
    "    def __repr__(self):\n",
    "        return '({}, {})'.format(self.x, self.y)\n",
    "    \n",
    "    def __str__(self):\n",
    "        return 'AAAAHH'\n"
   ]
  },
  {
   "cell_type": "code",
   "execution_count": null,
   "id": "aff8d379",
   "metadata": {},
   "outputs": [],
   "source": [
    "p1 = Point(4, 5)\n",
    "p2 = Point(2, 3)\n",
    "p1 * p2"
   ]
  },
  {
   "cell_type": "code",
   "execution_count": null,
   "id": "d7a6f491",
   "metadata": {},
   "outputs": [],
   "source": [
    "str(p1)"
   ]
  },
  {
   "cell_type": "code",
   "execution_count": null,
   "id": "bdceadc6",
   "metadata": {},
   "outputs": [],
   "source": [
    "class Vector:\n",
    "    def __init__(self, p1, p2):\n",
    "        self.p1 = p1\n",
    "        self.p2 = p2\n",
    "    \n",
    "    #"
   ]
  }
 ],
 "metadata": {
  "kernelspec": {
   "display_name": "Python 3 (ipykernel)",
   "language": "python",
   "name": "python3"
  },
  "language_info": {
   "codemirror_mode": {
    "name": "ipython",
    "version": 3
   },
   "file_extension": ".py",
   "mimetype": "text/x-python",
   "name": "python",
   "nbconvert_exporter": "python",
   "pygments_lexer": "ipython3",
   "version": "3.9.6"
  }
 },
 "nbformat": 4,
 "nbformat_minor": 5
}
